{
 "cells": [
  {
   "cell_type": "markdown",
   "metadata": {},
   "source": [
    "# Patch Generator"
   ]
  },
  {
   "cell_type": "code",
   "execution_count": 1,
   "metadata": {},
   "outputs": [],
   "source": [
    "from utils import getLabel, getWSI, getRegionFromSlide\n",
    "import numpy as np\n",
    "import openslide\n",
    "import cv2\n",
    "import matplotlib.pyplot as plt\n",
    "from sklearn.utils import shuffle\n",
    "from itertools import cycle\n",
    "import json"
   ]
  },
  {
   "cell_type": "code",
   "execution_count": 11,
   "metadata": {},
   "outputs": [],
   "source": [
    "def patch_generator(folder, all_patch_list, \n",
    "                    det_patch_list, batch_size=64, \n",
    "                    detection_ratio=0.5, levels=[0,1,2],\n",
    "                    dims=(512,512)):\n",
    "    '''\n",
    "    Returns (via yields) the sample image patch and corresponding ground truth mask, in given batch_size, using\n",
    "    one level in levels list per patch with equal probability\n",
    "    '''\n",
    "    \n",
    "    \n",
    "    true_batch = int(detection_ratio * batch_size)+1\n",
    "    all_batch_size = batch_size - true_batch\n",
    "    \n",
    "    print('true_batch_size: {} \\t all_batch_size: {}'.format(true_batch, all_batch_size))\n",
    "    \n",
    "    while 1:\n",
    "        all_patch_list = shuffle(all_patch_list)\n",
    "        det_patch_list = shuffle(det_patch_list)\n",
    "        \n",
    "        det_patch_list_cycle = cycle(det_patch_list)\n",
    "        \n",
    "        for offset in range(0,len(all_patch_list),all_batch_size):\n",
    "            \n",
    "            ## Get file and coords list from each patch list and combine them\n",
    "            all_samples = all_patch_list[offset:offset+all_batch_size]\n",
    "            true_sample = []\n",
    "            count = 0\n",
    "            for sample in det_patch_list_cycle:\n",
    "                true_sample.append(sample)\n",
    "                count += 1\n",
    "                if count>=true_batch:\n",
    "                    break\n",
    "            combined_sample_list = all_samples\n",
    "            combined_sample_list.extend(true_sample)\n",
    "            \n",
    "            combined_sample_list = shuffle(combined_sample_list)\n",
    "            \n",
    "            patch = []\n",
    "            ground_truth = []\n",
    "            \n",
    "            for sample in combined_sample_list:\n",
    "                filename = folder + sample[0]\n",
    "                coords = sample[1]\n",
    "                level = levels[np.random.randint(0, len(levels), dtype=np.int8)]\n",
    "                patch.append(getRegionFromSlide(getWSI(filename), level=level, start_coord=coords, dims=dims))\n",
    "                \n",
    "                ground_truth.append(getLabel(filename,level,coords,dims))\n",
    "                \n",
    "                print('Level used: {}'.format(level))\n",
    "                \n",
    "            X_train = np.array(patch)\n",
    "            y_train = np.array(ground_truth)\n",
    "            \n",
    "            yield shuffle(X_train, y_train)"
   ]
  },
  {
   "cell_type": "markdown",
   "metadata": {},
   "source": [
    "## Test patch generation"
   ]
  },
  {
   "cell_type": "code",
   "execution_count": 3,
   "metadata": {},
   "outputs": [],
   "source": [
    "with open('all_patch_list.json', 'rb') as f :\n",
    "    all_patch_list = json.load(f)['list']\n",
    "    "
   ]
  },
  {
   "cell_type": "code",
   "execution_count": 4,
   "metadata": {},
   "outputs": [],
   "source": [
    "with open('./detections_patch_list.json', 'rb') as f :\n",
    "    detections_patch_list = json.load(f)['list']"
   ]
  },
  {
   "cell_type": "code",
   "execution_count": 5,
   "metadata": {},
   "outputs": [],
   "source": [
    "all_patch_list = shuffle(all_patch_list)\n",
    "detections_patch_list =shuffle(detections_patch_list)\n",
    "all_patch_list_short = all_patch_list[:10]\n",
    "detections_patch_list_short = detections_patch_list[:10]"
   ]
  },
  {
   "cell_type": "code",
   "execution_count": 12,
   "metadata": {},
   "outputs": [
    {
     "name": "stdout",
     "output_type": "stream",
     "text": [
      "true_batch_size: 3 \t all_batch_size: 1\n",
      "Level used: 0\n",
      "Level used: 0\n",
      "Level used: 0\n",
      "Level used: 1\n",
      "---------------Count: 0 -----------------\n",
      "X_train avg/shape: [203.44775391 153.75242488 233.09274801 202.17811457] (4, 512, 512, 3)\n",
      "y_train sum/shape: [262144. 262144.      0. 262144.] (4, 512, 512, 1)\n",
      "Level used: 1\n",
      "Level used: 2\n",
      "Level used: 2\n",
      "Level used: 1\n",
      "---------------Count: 1 -----------------\n",
      "X_train avg/shape: [232.49019877 151.93796031 188.54871496 190.37866211] (4, 512, 512, 3)\n",
      "y_train sum/shape: [     0. 262144.   9407. 259848.] (4, 512, 512, 1)\n",
      "Level used: 1\n",
      "Level used: 1\n",
      "Level used: 0\n",
      "Level used: 2\n",
      "---------------Count: 2 -----------------\n",
      "X_train avg/shape: [162.32260386 182.96707662 216.46680832 160.92891439] (4, 512, 512, 3)\n",
      "y_train sum/shape: [262144. 254539.      0. 262144.] (4, 512, 512, 1)\n",
      "Level used: 0\n",
      "Level used: 0\n",
      "Level used: 0\n",
      "Level used: 2\n",
      "---------------Count: 3 -----------------\n",
      "X_train avg/shape: [203.87278493 203.44775391 224.19379807 147.44900386] (4, 512, 512, 3)\n",
      "y_train sum/shape: [262144. 262144.      0. 262144.] (4, 512, 512, 1)\n",
      "Level used: 2\n",
      "Level used: 2\n",
      "Level used: 0\n",
      "Level used: 2\n",
      "---------------Count: 4 -----------------\n",
      "X_train avg/shape: [188.54871496 150.47889837 238.47244771 153.75242488] (4, 512, 512, 3)\n",
      "y_train sum/shape: [  9407. 262144.      0. 262144.] (4, 512, 512, 1)\n",
      "Level used: 2\n",
      "Level used: 1\n",
      "Level used: 1\n",
      "Level used: 1\n",
      "completed\n"
     ]
    }
   ],
   "source": [
    "count = 0\n",
    "batches = 5\n",
    "for X_train, y_train in patch_generator('/home/mak/PathAI/slides/', \n",
    "                                        all_patch_list_short, \n",
    "                                        detections_patch_list_short, \n",
    "                                        batch_size=4):\n",
    "    if count >= batches:\n",
    "        print('completed')\n",
    "        break\n",
    "    print('---------------Count: {} -----------------\\nX_train avg/shape: {} {}\\ny_train sum/shape: {} {}'.format(count, np.average(X_train, (1,2,3)), X_train.shape, np.sum(y_train, (1,2,3)), y_train.shape))\n",
    "    count += 1\n",
    "    "
   ]
  },
  {
   "cell_type": "code",
   "execution_count": 7,
   "metadata": {},
   "outputs": [
    {
     "data": {
      "text/plain": [
       "[['patient_046_node_2.tif', [38656, 9216]],\n",
       " ['patient_063_node_2.tif', [71238, 133251]],\n",
       " ['patient_046_node_0.tif', [84224, 8448]],\n",
       " ['patient_051_node_3.tif', [15872, 37376]],\n",
       " ['patient_043_node_1.tif', [22336, 1664]],\n",
       " ['patient_054_node_3.tif', [77312, 79616]],\n",
       " ['patient_047_node_2.tif', [58752, 20480]],\n",
       " ['patient_014_node_1.tif', [67907, 100451]],\n",
       " ['patient_047_node_2.tif', [68480, 60672]],\n",
       " ['patient_049_node_3.tif', [46592, 13568]]]"
      ]
     },
     "execution_count": 7,
     "metadata": {},
     "output_type": "execute_result"
    }
   ],
   "source": [
    "all_patch_list_short"
   ]
  },
  {
   "cell_type": "code",
   "execution_count": null,
   "metadata": {},
   "outputs": [],
   "source": []
  }
 ],
 "metadata": {
  "kernelspec": {
   "display_name": "Python 3",
   "language": "python",
   "name": "python3"
  },
  "language_info": {
   "codemirror_mode": {
    "name": "ipython",
    "version": 3
   },
   "file_extension": ".py",
   "mimetype": "text/x-python",
   "name": "python",
   "nbconvert_exporter": "python",
   "pygments_lexer": "ipython3",
   "version": "3.6.7"
  },
  "widgets": {
   "state": {},
   "version": "1.1.2"
  }
 },
 "nbformat": 4,
 "nbformat_minor": 2
}
